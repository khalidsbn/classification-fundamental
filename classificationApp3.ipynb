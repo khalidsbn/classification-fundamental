{
 "cells": [
  {
   "cell_type": "code",
   "execution_count": 18,
   "id": "d294d381",
   "metadata": {},
   "outputs": [
    {
     "name": "stdout",
     "output_type": "stream",
     "text": [
      "X shape =  (5000, 400)\n",
      "[[0. 0. 0. ... 0. 0. 0.]\n",
      " [0. 0. 0. ... 0. 0. 0.]\n",
      " [0. 0. 0. ... 0. 0. 0.]\n",
      " ...\n",
      " [0. 0. 0. ... 0. 0. 0.]\n",
      " [0. 0. 0. ... 0. 0. 0.]\n",
      " [0. 0. 0. ... 0. 0. 0.]]\n",
      "\n",
      "Y shape =  (5000, 1)\n",
      "[[10]\n",
      " [10]\n",
      " [10]\n",
      " ...\n",
      " [ 9]\n",
      " [ 9]\n",
      " [ 9]]\n"
     ]
    }
   ],
   "source": [
    "import numpy as np\n",
    "from scipy.io import loadmat\n",
    "\n",
    "data = loadmat('//home//khalid//pythonfiles//classExo3.mat')\n",
    "\n",
    "#print(data)\n",
    "print('X shape = ', data['X'].shape)\n",
    "print(data['X'])\n",
    "\n",
    "print('\\nY shape = ', data['y'].shape)\n",
    "print(data['y'])"
   ]
  },
  {
   "cell_type": "code",
   "execution_count": 19,
   "id": "948c480a",
   "metadata": {},
   "outputs": [],
   "source": [
    "#functions\n",
    "def sigmoid(z):\n",
    "    return 1 / (1 + np.exp(-z))\n",
    "\n",
    "def cost(theta, X, y, learningRate):\n",
    "    theta = np.matrix(theta)\n",
    "    X = np.matrix(X)\n",
    "    y = np.matrix(y)\n",
    "    \n",
    "    first = np.multiply(-y, np.log(sigmoid(X * theta.T)))\n",
    "    second = np.multiply((1-y), np.log(1-sigmoid(X * theta.T)))\n",
    "    \n",
    "    reg = (learningRate / 2 * len(X)) * np.sum(np.power(theta[:,1:theta.shape[1]], 2))\n",
    "    \n",
    "    return np.sum(first - second) / (len(X)) + reg\n",
    "\n",
    "def gradient_with_loop(theta, X, y, learningRate):\n",
    "    theta = np.matrix(theta)\n",
    "    X = np.matrix(X)\n",
    "    y = np.matrix(y)\n",
    "    \n",
    "    parameters = int(theta.ravel().shape[1])\n",
    "    grad = np.zeros(parameters)\n",
    "    \n",
    "    error = sigmoid(X * theta.T) - y\n",
    "    \n",
    "    for i in range(parameters):\n",
    "        term = np.multiply(error, X[:,i])\n",
    "        \n",
    "        if(i==0):\n",
    "            grad[i] = np.sum(term)/len(X)\n",
    "        else:\n",
    "            grad[i] = (np.sum(term) / len(X)) + ((learningRate / len(X)) * theta[:,i])\n",
    "    \n",
    "    return grad\n",
    "\n",
    "def gradient(theta, X, y, learningRate):\n",
    "    theta = np.matrix(theta)\n",
    "    X = np.matrix(X)\n",
    "    y = np.matrix(y)\n",
    "    \n",
    "    parameters = int(theta.ravel().shape[1])\n",
    "    error = sigmoid(X * theta.T) - y\n",
    "    \n",
    "    grad = ((X.T * error) / len(X)).T + ((learningRate / len(X)) * theta)\n",
    "    \n",
    "    # intercept gradient is not regularized\n",
    "    grad[0, 0] = np.sum(np.multiply(error, X[:,0])) / len(X)\n",
    "    \n",
    "    return np.array(grad).ravel()\n",
    "\n",
    "from scipy.optimize import minimize\n",
    "\n",
    "def one_vs_all(X, y, num_labels, learning_rate):\n",
    "    rows = X.shape[0] #5000\n",
    "    params = X.shape[1] #400\n",
    "    \n",
    "    # k X (n + 1) array for the parameters of each of the k classifiers\n",
    "    all_theta = np.zeros((num_labels, params + 1))\n",
    "    \n",
    "    print('all_theta shape ' , all_theta.shape)\n",
    "    # insert a column of ones at the beginning for the intercept term\n",
    "    X = np.insert(X, 0, values=np.ones(rows), axis=1)\n",
    "    print('X shape ' , X.shape)\n",
    "    \n",
    "    #classification code\n",
    "    # labels are 1-indexed instead of 0-indexed\n",
    "    for i in range(1, num_labels + 1):\n",
    "        theta = np.zeros(params + 1)\n",
    "        y_i = np.array([1 if label == i else 0 for label in y])\n",
    "        y_i = np.reshape(y_i, (rows, 1))\n",
    "        # minimize the objective function\n",
    "        fmin = minimize(fun=cost, x0=theta, args=(X, y_i, learning_rate), method='TNC', jac=gradient)\n",
    "        all_theta[i-1,:] = fmin.x\n",
    "        \n",
    "    return all_theta\n",
    "            "
   ]
  },
  {
   "cell_type": "code",
   "execution_count": 29,
   "id": "46e7b86b",
   "metadata": {},
   "outputs": [
    {
     "name": "stdout",
     "output_type": "stream",
     "text": [
      "rows =  5000\n",
      "params =  400\n"
     ]
    }
   ],
   "source": [
    "rows = data['X'].shape[0] #5000\n",
    "params = data['X'].shape[1] # 400\n",
    "\n",
    "print('rows = ' ,rows)\n",
    "print('params = ' , params)"
   ]
  },
  {
   "cell_type": "code",
   "execution_count": 30,
   "id": "0261af74",
   "metadata": {},
   "outputs": [
    {
     "name": "stdout",
     "output_type": "stream",
     "text": [
      "all_theta \n",
      " [[0. 0. 0. ... 0. 0. 0.]\n",
      " [0. 0. 0. ... 0. 0. 0.]\n",
      " [0. 0. 0. ... 0. 0. 0.]\n",
      " ...\n",
      " [0. 0. 0. ... 0. 0. 0.]\n",
      " [0. 0. 0. ... 0. 0. 0.]\n",
      " [0. 0. 0. ... 0. 0. 0.]]\n",
      "all_theta shape \n",
      " (10, 401)\n"
     ]
    }
   ],
   "source": [
    "all_theta = np.zeros((10, params + 1))\n",
    "\n",
    "print('all_theta \\n' , all_theta)\n",
    "print('all_theta shape \\n' , all_theta.shape)"
   ]
  },
  {
   "cell_type": "code",
   "execution_count": 31,
   "id": "85a61e7c",
   "metadata": {},
   "outputs": [
    {
     "name": "stdout",
     "output_type": "stream",
     "text": [
      "X Shape =  (5000, 401)\n"
     ]
    }
   ],
   "source": [
    "X = np.insert(data['X'], 0, values=np.ones(rows), axis=1)\n",
    "\n",
    "# print(X)\n",
    "print('X Shape = ' , X.shape)"
   ]
  },
  {
   "cell_type": "code",
   "execution_count": 33,
   "id": "db08a7c8",
   "metadata": {},
   "outputs": [],
   "source": [
    "theta = np.zeros(params + 1)\n",
    "#print('theta \\n' , theta )"
   ]
  },
  {
   "cell_type": "code",
   "execution_count": 24,
   "id": "df556724",
   "metadata": {},
   "outputs": [
    {
     "data": {
      "text/plain": [
       "'\\nexplinaton\\n4   0\\n5   0\\n8   0\\n0   1\\n2   0\\n10  0\\n0   1\\n4   0\\n0   1\\n0   1\\n7   0\\n9   0\\n'"
      ]
     },
     "execution_count": 24,
     "metadata": {},
     "output_type": "execute_result"
    }
   ],
   "source": [
    "y_0 = np.array([1 if label == 0 else 0 for label in data['y']])\n",
    "'''\n",
    "explinaton\n",
    "4   0\n",
    "5   0\n",
    "8   0\n",
    "0   1\n",
    "2   0\n",
    "10  0\n",
    "0   1\n",
    "4   0\n",
    "0   1\n",
    "0   1\n",
    "7   0\n",
    "9   0\n",
    "'''\n",
    "\n",
    "# print('y_0')\n",
    "# print(y_0.shape)\n",
    "# print(y_0) #print(y_0[0:99])"
   ]
  },
  {
   "cell_type": "code",
   "execution_count": 25,
   "id": "e54cb650",
   "metadata": {},
   "outputs": [],
   "source": [
    "y_0 = np.reshape(y_0, (rows, 1)) #T\n",
    "\n",
    "# print('y_0')\n",
    "# print(y_0.shape)\n",
    "# print(y_0)"
   ]
  },
  {
   "cell_type": "code",
   "execution_count": 26,
   "id": "2f57ff38",
   "metadata": {},
   "outputs": [
    {
     "name": "stdout",
     "output_type": "stream",
     "text": [
      "\n",
      "X.shape =  (5000, 401)\n",
      "\n",
      "y.shape =  (5000, 1)\n",
      "\n",
      "theta.shape =  (401,)\n",
      "\n",
      "all_theta.shape =  (10, 401)\n",
      "\n",
      "data array =  [ 1  2  3  4  5  6  7  8  9 10]\n"
     ]
    }
   ],
   "source": [
    "print()\n",
    "print('X.shape = ',X.shape)\n",
    "print()\n",
    "print('y.shape = ',y_0.shape)\n",
    "print()\n",
    "print('theta.shape = ',theta.shape)\n",
    "print()\n",
    "print('all_theta.shape = ',all_theta.shape)\n",
    "\n",
    "print()\n",
    "print('data array = ' , np.unique(data['y']))"
   ]
  },
  {
   "cell_type": "code",
   "execution_count": 27,
   "id": "7202cbd8",
   "metadata": {},
   "outputs": [
    {
     "name": "stdout",
     "output_type": "stream",
     "text": [
      "\n",
      "all_theta shape  (1, 401)\n",
      "X shape  (5000, 401)\n",
      "Theta shape =  (1, 401)\n"
     ]
    }
   ],
   "source": [
    "print()\n",
    "all_theta = one_vs_all(data['X'], data['y'], 1, 1) #first 1, let us decide how many m we want classifed\n",
    "\n",
    "print('Theta shape = ' , all_theta.shape)\n",
    "# print('Theta = ')\n",
    "# print(all_theta)"
   ]
  },
  {
   "cell_type": "code",
   "execution_count": 28,
   "id": "4298c4a5",
   "metadata": {},
   "outputs": [
    {
     "name": "stdout",
     "output_type": "stream",
     "text": [
      "accuracy = 10.0%\n"
     ]
    }
   ],
   "source": [
    "def predict_all(X, all_theta):\n",
    "    rows = X.shape[0]\n",
    "    params = X.shape[1]\n",
    "    num_labels = all_theta.shape[0]\n",
    "    \n",
    "    # same as before, insert ones to match the shape\n",
    "    X = np.insert(X, 0, values=np.ones(rows), axis=1)\n",
    "    \n",
    "    # convert to matrices\n",
    "    X = np.matrix(X)\n",
    "    all_theta = np.matrix(all_theta)\n",
    "    \n",
    "    # compute the class probability for each class on each training instance\n",
    "    h = sigmoid(X * all_theta.T)\n",
    "    \n",
    "    # create array of the index with the maximum probability\n",
    "    h_argmax = np.argmax(h, axis=1)\n",
    "    \n",
    "    # because our array was zero-indexed we need to add one for the true label prediction\n",
    "    h_argmax = h_argmax + 1\n",
    "    \n",
    "    return h_argmax\n",
    "\n",
    "\n",
    "\n",
    "y_pred = predict_all(data['X'], all_theta)\n",
    "correct = [1 if a == b else 0 for (a, b) in zip(y_pred, data['y'])]\n",
    "accuracy = (sum(map(int, correct)) / float(len(correct)))\n",
    "print ('accuracy = {0}%'.format(accuracy * 100))"
   ]
  }
 ],
 "metadata": {
  "kernelspec": {
   "display_name": "Python 3 (ipykernel)",
   "language": "python",
   "name": "python3"
  },
  "language_info": {
   "codemirror_mode": {
    "name": "ipython",
    "version": 3
   },
   "file_extension": ".py",
   "mimetype": "text/x-python",
   "name": "python",
   "nbconvert_exporter": "python",
   "pygments_lexer": "ipython3",
   "version": "3.9.12"
  }
 },
 "nbformat": 4,
 "nbformat_minor": 5
}
